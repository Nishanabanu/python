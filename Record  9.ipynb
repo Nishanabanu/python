{
 "cells": [
  {
   "cell_type": "code",
   "execution_count": 3,
   "id": "9a1b6bc6",
   "metadata": {},
   "outputs": [
    {
     "name": "stdout",
     "output_type": "stream",
     "text": [
      "Enter length of rectangle 1:4\n",
      "Enter breadh of rectangle 1:5\n",
      "\n",
      "Enter length of rectangle 2:5\n",
      "Enter breadth of rectangle 2:4\n",
      "\n",
      "Rectangle is equal\n"
     ]
    }
   ],
   "source": [
    "#compare 2 rectangle\n",
    "class rectangle():\n",
    "    def get(self,l,b):\n",
    "        self.l=l\n",
    "        self.b=b\n",
    "    def area(self,l,b):\n",
    "        return l*b\n",
    "    def perimeter(self,l,b):\n",
    "        return 2*(l+b)\n",
    "    \n",
    "    \n",
    "r1=rectangle()\n",
    "r2=rectangle()\n",
    "l1=int(input(\"Enter length of rectangle 1:\"))\n",
    "b1=int(input(\"Enter breadh of rectangle 1:\"))\n",
    "l2=int(input(\"\\nEnter length of rectangle 2:\"))\n",
    "b2=int(input(\"Enter breadth of rectangle 2:\"))\n",
    "p=r1.area(l1,b1)\n",
    "q=r2.area(l2,b2)\n",
    "if(p>q):\n",
    "    print(\"\\nRectangle 1 is greater\")\n",
    "elif(p<q):\n",
    "    print(\"\\nRectangle 2 is greater\")\n",
    "    \n",
    "else:\n",
    "    print(\"\\nRectangle is equal\")\n",
    "    "
   ]
  },
  {
   "cell_type": "code",
   "execution_count": 2,
   "id": "7d3265b9",
   "metadata": {},
   "outputs": [
    {
     "name": "stdout",
     "output_type": "stream",
     "text": [
      "Enter name:abc\n",
      "Enter account number:1234\n",
      "Enter account type:savings\n",
      "Enter initial balance:1000\n",
      "\n",
      "1.Deposit \n",
      "2.withdraw \n",
      "3.account info \n",
      "4.exit \n",
      "choose your option:1\n",
      "\n",
      "deposit amount:100\n",
      "initial balance= 1000\n",
      "100 is deposite\n",
      "current balance: 1100\n",
      "\n",
      "1.Deposit \n",
      "2.withdraw \n",
      "3.account info \n",
      "4.exit \n",
      "choose your option:2\n",
      "\n",
      "withdraw amount:500\n",
      "initial balance: 1100\n",
      "500 is withdrawed\n",
      "current balance: 600\n",
      "\n",
      "1.Deposit \n",
      "2.withdraw \n",
      "3.account info \n",
      "4.exit \n",
      "choose your option:3\n",
      "\n",
      "Account holder Name:  abc\n",
      "Account Number:  1234\n",
      "Account Type:  savings\n",
      "Account Balance:  600\n",
      "\n",
      "1.Deposit \n",
      "2.withdraw \n",
      "3.account info \n",
      "4.exit \n",
      "choose your option:4\n",
      "Existing...\n"
     ]
    }
   ],
   "source": [
    "#bankaccount\n",
    "class bankaccount:\n",
    "    def __init__(self,a_name,a_no,a_type,a_balance):\n",
    "        self.acc_name=a_name\n",
    "        self.acc_no=a_no\n",
    "        self.acc_type=a_type\n",
    "        self.acc_balance=a_balance\n",
    "    def deposit(self,a_deposit): \n",
    "        print(\"initial balance=\",self.acc_balance)\n",
    "        self.acc_balance+=a_deposit\n",
    "        print(a_deposit,\"is deposite\")\n",
    "        print(\"current balance:\",self.acc_balance)\n",
    "    def withdraw(self):\n",
    "        self.amount=int(input(\"\\nwithdraw amount:\"))\n",
    "        print(\"initial balance:\",self.acc_balance)\n",
    "        if self.amount>self.acc_balance:\n",
    "            print(\"you dont have enough balance to withdraw!\")\n",
    "            print(\"current balance:\",self.acc_balance)\n",
    "        else:\n",
    "            print(self.amount,\"is withdrawed\")\n",
    "            self.acc_balance-=self.amount\n",
    "            print(\"current balance:\",self.acc_balance)\n",
    "    def acc_info(self):\n",
    "            print(\"\\nAccount holder Name: \", self.acc_name)\n",
    "            print(\"Account Number: \", self.acc_no)\n",
    "            print(\"Account Type: \", self.acc_type)\n",
    "            print(\"Account Balance: \", self.acc_balance)        \n",
    "            \n",
    "            \n",
    "name=input(\"Enter name:\")\n",
    "no=int(input(\"Enter account number:\"))\n",
    "typ=input(\"Enter account type:\")\n",
    "bal=int(input(\"Enter initial balance:\"))\n",
    "holder=bankaccount(name,no,typ,bal)\n",
    "while(True):\n",
    "    ch=int(input(\"\\n1.Deposit \\n2.withdraw \\n3.account info \\n4.exit \\nchoose your option:\"))\n",
    "    if ch==1:\n",
    "        amount=int(input(\"\\ndeposit amount:\"))\n",
    "        holder.deposit(amount)\n",
    "    elif ch==2:\n",
    "        holder.withdraw()\n",
    "    elif ch==3:\n",
    "        holder.acc_info()\n",
    "    else:\n",
    "        print(\"Existing...\")\n",
    "        break"
   ]
  },
  {
   "cell_type": "code",
   "execution_count": 13,
   "id": "8280ddcf",
   "metadata": {},
   "outputs": [
    {
     "name": "stdout",
     "output_type": "stream",
     "text": [
      "Enter Publisher Name:DC BOOKS\n",
      "Enter Book Name:LIFE\n",
      "Enter Author Name:BANUMATHI\n",
      "Enter Rate Of Book: 1000\n",
      "Enter No. Of Pages:200\n",
      "\n",
      "BOOK DETAILS \n",
      "Publisher name: DC BOOKS\n",
      "Title: LIFE\n",
      "Author: BANUMATHI\n",
      "Rate: 1000\n",
      "No.Of Pages: 200\n"
     ]
    }
   ],
   "source": [
    "#Constructor\n",
    "class publisher:\n",
    "    def __init__(self,pname):\n",
    "        self.pubname=pname\n",
    "    def display1(self):\n",
    "        print(\"\\nBOOK DETAILS \\nPublisher name:\",self.pubname)\n",
    "class book(publisher):\n",
    "    def __init__(self,pname,bname,author):\n",
    "        self.title=bname\n",
    "        self.auth=author\n",
    "        publisher.__init__(self,pname)\n",
    "    def display2(self):\n",
    "        print(\"Title:\",self.title)\n",
    "        print(\"Author:\",self.auth)\n",
    "        \n",
    "class python(book):\n",
    "    def __init__(self,pname,title,au,price,np):\n",
    "        self.rate=price\n",
    "        self.nop=np\n",
    "        book.__init__(self,pname,title,au)\n",
    "    def display3(self):\n",
    "        print(\"Rate:\",self.rate)\n",
    "        print(\"No.Of Pages:\",self.nop)\n",
    "p=input(\"Enter Publisher Name:\")\n",
    "b=input(\"Enter Book Name:\")\n",
    "a=input(\"Enter Author Name:\")\n",
    "r=int(input(\"Enter Rate Of Book: \"))\n",
    "n=int(input(\"Enter No. Of Pages:\"))\n",
    "a=python(p,b,a,r,n)\n",
    "a.display1()\n",
    "a.display2()\n",
    "a.display3()"
   ]
  },
  {
   "cell_type": "code",
   "execution_count": 18,
   "id": "1be8a142",
   "metadata": {},
   "outputs": [
    {
     "name": "stdout",
     "output_type": "stream",
     "text": [
      "Enter Length of Rectangle 1: 4\n",
      "Enter Width of Rectangle 1: 5\n",
      "\n",
      "Enter Length of Rectangle 2: 2\n",
      "Enter Width of Rectangle 2: 9\n",
      "\n",
      "Rectangle 1 Is Greater\n"
     ]
    }
   ],
   "source": [
    "#overload\n",
    "class rectangle:\n",
    "    def __init__(self,l,w):\n",
    "        self.length=l\n",
    "        self.width=w\n",
    "        self.a=l*w\n",
    "    def __gt__(self,other):\n",
    "        if self.a < other.a:\n",
    "            print(\"\\nRectangle 1 Is Greater\")\n",
    "        else:\n",
    "            print(\"\\nRectangle 2 Is Greater\")\n",
    "l1=int(input(\"Enter Length of Rectangle 1: \"))\n",
    "w1=int(input(\"Enter Width of Rectangle 1: \"))\n",
    "l2=int(input(\"\\nEnter Length of Rectangle 2: \"))\n",
    "w2=int(input(\"Enter Width of Rectangle 2: \"))\n",
    "r1=rectangle(l1,w1)\n",
    "r2=rectangle(l2,w2)\n",
    "r1<r2"
   ]
  },
  {
   "cell_type": "code",
   "execution_count": 25,
   "id": "223dff78",
   "metadata": {},
   "outputs": [
    {
     "ename": "SyntaxError",
     "evalue": "unterminated string literal (detected at line 9) (2355545793.py, line 9)",
     "output_type": "error",
     "traceback": [
      "\u001b[0;36m  Cell \u001b[0;32mIn[25], line 9\u001b[0;36m\u001b[0m\n\u001b[0;31m    l=list(input(\"enter comma separated empid,empname,department,dob,salary:\").split(\",”))\u001b[0m\n\u001b[0m                                                                                     ^\u001b[0m\n\u001b[0;31mSyntaxError\u001b[0m\u001b[0;31m:\u001b[0m unterminated string literal (detected at line 9)\n"
     ]
    }
   ],
   "source": [
    "import csv\n",
    "file1=input(\"enter new source csv file name:\")\n",
    "with open (file1,\"a+\", newline=' ')as f1:\n",
    "    empdata=[\"empid\",\"empname\",\"dptmnt\",\"dob\",\"salary\"]\n",
    "    l=[]\n",
    "    writer=csv.DictWriter(f1,fieldnames=empdata)\n",
    "    writer.writeheader()\n",
    "    for i in range(2):\n",
    "        l=list(input(\"enter comma separated empid,empname,department,dob,salary:\").split(\",”))\n",
    "        writer.writerow({'empid':l[0],'empname':l[1],'dptmnt':l[2],'dob':l[3],'salary':l[4]})\n",
    "        l.clear()\n",
    "with open(file1,'r')asf2:\n",
    "rdr=csv.DictReader(f2)\n",
    "for item in rdr:\n",
    "    print(dict(item))"
   ]
  },
  {
   "cell_type": "code",
   "execution_count": null,
   "id": "f6d46ce4",
   "metadata": {},
   "outputs": [],
   "source": []
  }
 ],
 "metadata": {
  "kernelspec": {
   "display_name": "Python 3 (ipykernel)",
   "language": "python",
   "name": "python3"
  },
  "language_info": {
   "codemirror_mode": {
    "name": "ipython",
    "version": 3
   },
   "file_extension": ".py",
   "mimetype": "text/x-python",
   "name": "python",
   "nbconvert_exporter": "python",
   "pygments_lexer": "ipython3",
   "version": "3.11.4"
  }
 },
 "nbformat": 4,
 "nbformat_minor": 5
}
