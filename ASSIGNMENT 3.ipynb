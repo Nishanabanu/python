{
 "cells": [
  {
   "cell_type": "code",
   "execution_count": 6,
   "id": "70fdcc05",
   "metadata": {},
   "outputs": [
    {
     "name": "stdout",
     "output_type": "stream",
     "text": [
      "Enter your string :APPLE\n",
      "The Resulting String is: EPPLA\n"
     ]
    }
   ],
   "source": [
    "#Exchange first and last characters\n",
    "s=str(input(\"Enter your string :\"))\n",
    "a=s[0]\n",
    "b=s[-1]\n",
    "print(\"The Resulting String is:\",b+s[1:-1]+a)"
   ]
  },
  {
   "cell_type": "code",
   "execution_count": 5,
   "id": "4f6c591d",
   "metadata": {},
   "outputs": [
    {
     "name": "stdout",
     "output_type": "stream",
     "text": [
      "Enter your string :APPLE\n",
      "The resulting string is: APLE\n"
     ]
    }
   ],
   "source": [
    "#first and last character interchange\n",
    "s=str(input(\"Enter your string :\"))\n",
    "a=s[0:2]\n",
    "b=s[-2:]\n",
    "print(\"The Resulting String is:\",a+s[-2:])"
   ]
  },
  {
   "cell_type": "code",
   "execution_count": 9,
   "id": "d89fb6d2",
   "metadata": {},
   "outputs": [
    {
     "name": "stdout",
     "output_type": "stream",
     "text": [
      "Enter the first string:hello\n",
      "Enter the second string:world\n",
      "The Resulting String is: wollo  herld\n"
     ]
    }
   ],
   "source": [
    "#Swap first two characters of two string\n",
    "s1=str(input(\"Enter the first string:\"))\n",
    "s2=str(input(\"Enter the second string:\"))\n",
    "a=s1[0:2]\n",
    "b=s2[0:2]\n",
    "print(\"The Resulting String is:\",b+s1[2:],\"\",a+s2[2:])"
   ]
  },
  {
   "cell_type": "code",
   "execution_count": 12,
   "id": "241fc377",
   "metadata": {},
   "outputs": [
    {
     "name": "stdout",
     "output_type": "stream",
     "text": [
      "Enter The String:ONION\n",
      "New String Is ONI$N\n"
     ]
    }
   ],
   "source": [
    "#Replace occurance of first character to $\n",
    "s=str(input(\"Enter The String:\"))\n",
    "a=s[0]\n",
    "b=s[1:]\n",
    "st=b.replace(\"O\",\"$\")\n",
    "sn=s[0]+st\n",
    "print(\"New String Is\",sn)"
   ]
  },
  {
   "cell_type": "code",
   "execution_count": null,
   "id": "c9b55677",
   "metadata": {},
   "outputs": [],
   "source": []
  }
 ],
 "metadata": {
  "kernelspec": {
   "display_name": "Python 3 (ipykernel)",
   "language": "python",
   "name": "python3"
  },
  "language_info": {
   "codemirror_mode": {
    "name": "ipython",
    "version": 3
   },
   "file_extension": ".py",
   "mimetype": "text/x-python",
   "name": "python",
   "nbconvert_exporter": "python",
   "pygments_lexer": "ipython3",
   "version": "3.11.4"
  }
 },
 "nbformat": 4,
 "nbformat_minor": 5
}
