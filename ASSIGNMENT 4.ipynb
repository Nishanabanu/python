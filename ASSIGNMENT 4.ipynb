{
 "cells": [
  {
   "cell_type": "code",
   "execution_count": 3,
   "id": "3c57effb",
   "metadata": {},
   "outputs": [
    {
     "name": "stdout",
     "output_type": "stream",
     "text": [
      "Enter numbers:10,20,30,40\n",
      "list = ['10', '20', '30', '40']\n"
     ]
    }
   ],
   "source": [
    "#create a list\n",
    "n=input(\"Enter numbers:\")\n",
    "p=n.split(\",\")\n",
    "print(\"list =\",p)"
   ]
  },
  {
   "cell_type": "code",
   "execution_count": 5,
   "id": "da6b4640",
   "metadata": {},
   "outputs": [
    {
     "name": "stdout",
     "output_type": "stream",
     "text": [
      "Enter Colors With Comma Seperated:Red,Yellow,Blue,Pink\n",
      "list = ['Red', 'Yellow', 'Blue', 'Pink']\n",
      "First color is : Red\n",
      "Last color is : Pink\n"
     ]
    }
   ],
   "source": [
    "#list of colors\n",
    "n=input(\"Enter Colors With Comma Seperated:\")\n",
    "p=n.split(\",\")\n",
    "print(\"list =\",p)\n",
    "print(\"First color is :\",p[0])\n",
    "print(\"Last color is :\",p[-1])"
   ]
  },
  {
   "cell_type": "code",
   "execution_count": 2,
   "id": "de43c74d",
   "metadata": {},
   "outputs": [
    {
     "name": "stdout",
     "output_type": "stream",
     "text": [
      "Enter a File Name :abc.py\n",
      "list = py\n"
     ]
    }
   ],
   "source": [
    "#file extension\n",
    "a=input(\"Enter a File Name :\")\n",
    "p=a.split(\".\")\n",
    "print(\"list =\",p[-1])"
   ]
  },
  {
   "cell_type": "code",
   "execution_count": null,
   "id": "53e5bd77",
   "metadata": {},
   "outputs": [],
   "source": []
  }
 ],
 "metadata": {
  "kernelspec": {
   "display_name": "Python 3 (ipykernel)",
   "language": "python",
   "name": "python3"
  },
  "language_info": {
   "codemirror_mode": {
    "name": "ipython",
    "version": 3
   },
   "file_extension": ".py",
   "mimetype": "text/x-python",
   "name": "python",
   "nbconvert_exporter": "python",
   "pygments_lexer": "ipython3",
   "version": "3.11.4"
  }
 },
 "nbformat": 4,
 "nbformat_minor": 5
}

