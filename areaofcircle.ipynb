{
 "cells": [
  {
   "cell_type": "code",
   "execution_count": 4,
   "id": "4e81505e",
   "metadata": {},
   "outputs": [
    {
     "name": "stdout",
     "output_type": "stream",
     "text": [
      "AREA OF CIRCLE\n",
      "Enter the radius of a circle:2.5\n",
      "The area of circle is = 19.634954084936208\n"
     ]
    }
   ],
   "source": [
    "print(\"AREA OF CIRCLE\")\n",
    "from math import pi\n",
    "a=float(input(\"Enter the radius of a circle:\"))\n",
    "Area=(pi*a*a)\n",
    "print(\"The area of circle is =\",Area)"
   ]
  },
  {
   "cell_type": "code",
   "execution_count": null,
   "id": "439c3db6",
   "metadata": {},
   "outputs": [],
   "source": []
  }
 ],
 "metadata": {
  "kernelspec": {
   "display_name": "Python 3 (ipykernel)",
   "language": "python",
   "name": "python3"
  },
  "language_info": {
   "codemirror_mode": {
    "name": "ipython",
    "version": 3
   },
   "file_extension": ".py",
   "mimetype": "text/x-python",
   "name": "python",
   "nbconvert_exporter": "python",
   "pygments_lexer": "ipython3",
   "version": "3.11.4"
  }
 },
 "nbformat": 4,
 "nbformat_minor": 5
}
