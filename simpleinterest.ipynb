{
 "cells": [
  {
   "cell_type": "code",
   "execution_count": 1,
   "id": "a7f7a6fa",
   "metadata": {},
   "outputs": [
    {
     "name": "stdout",
     "output_type": "stream",
     "text": [
      "Enter the principle amount:1000\n",
      "Number of years:5\n",
      "Rate of interest:100\n",
      "Simple interest= 5000.0\n"
     ]
    }
   ],
   "source": [
    "p=int(input(\"Enter the principle amount:\"))\n",
    "n=int(input(\"Number of years:\"))\n",
    "r=int(input(\"Rate of interest:\"))\n",
    "si=p*n*r/100\n",
    "print(\"Simple interest=\",si)"
   ]
  },
  {
   "cell_type": "code",
   "execution_count": null,
   "id": "5598b8bd",
   "metadata": {},
   "outputs": [],
   "source": []
  }
 ],
 "metadata": {
  "kernelspec": {
   "display_name": "Python 3 (ipykernel)",
   "language": "python",
   "name": "python3"
  },
  "language_info": {
   "codemirror_mode": {
    "name": "ipython",
    "version": 3
   },
   "file_extension": ".py",
   "mimetype": "text/x-python",
   "name": "python",
   "nbconvert_exporter": "python",
   "pygments_lexer": "ipython3",
   "version": "3.11.4"
  }
 },
 "nbformat": 4,
 "nbformat_minor": 5
}
