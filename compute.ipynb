{
 "cells": [
  {
   "cell_type": "code",
   "execution_count": 5,
   "id": "c3315362",
   "metadata": {},
   "outputs": [
    {
     "name": "stdout",
     "output_type": "stream",
     "text": [
      "enter the value of n:4\n",
      "4 + 44 + 444 = 492\n"
     ]
    }
   ],
   "source": [
    "n=int(input(\"enter the value of n:\"))\n",
    "i=n*10+n\n",
    "j=n*100+i\n",
    "sum=n+i+j\n",
    "print(n,\"+\",i,\"+\",j,\"=\",sum)"
   ]
  },
  {
   "cell_type": "code",
   "execution_count": null,
   "id": "ca6ae923",
   "metadata": {},
   "outputs": [],
   "source": []
  }
 ],
 "metadata": {
  "kernelspec": {
   "display_name": "Python 3 (ipykernel)",
   "language": "python",
   "name": "python3"
  },
  "language_info": {
   "codemirror_mode": {
    "name": "ipython",
    "version": 3
   },
   "file_extension": ".py",
   "mimetype": "text/x-python",
   "name": "python",
   "nbconvert_exporter": "python",
   "pygments_lexer": "ipython3",
   "version": "3.11.4"
  }
 },
 "nbformat": 4,
 "nbformat_minor": 5
}
