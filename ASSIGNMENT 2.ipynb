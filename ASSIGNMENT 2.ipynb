{
 "cells": [
  {
   "cell_type": "code",
   "execution_count": 8,
   "id": "16922a9f",
   "metadata": {},
   "outputs": [
    {
     "name": "stdout",
     "output_type": "stream",
     "text": [
      "AREA OF CIRCLE\n",
      "Enter the radius of a circle:2\n",
      "The area of circle is = 13\n"
     ]
    }
   ],
   "source": [
    "#AREA OF CIRCLE\n",
    "print(\"AREA OF CIRCLE\")\n",
    "from math import pi\n",
    "a=float(input(\"Enter the radius of a circle:\"))\n",
    "Area=round(pi*a*a)\n",
    "print(\"The area of circle is =\",Area)"
   ]
  },
  {
   "cell_type": "code",
   "execution_count": 2,
   "id": "faf3d20c",
   "metadata": {},
   "outputs": [
    {
     "name": "stdout",
     "output_type": "stream",
     "text": [
      "CELSIUS TO FAHRENHEIT\n",
      "Enter the degree celsius98\n",
      "The fahrenheit is = 208.4\n"
     ]
    }
   ],
   "source": [
    "#CELSIUS TO FAHRENHEIT\n",
    "print(\"CELSIUS TO FAHRENHEIT\")\n",
    "a=int(input(\"Enter the degree celsius\"))\n",
    "f=(a*9/5)+32\n",
    "print(\"The fahrenheit is =\",f)"
   ]
  },
  {
   "cell_type": "code",
   "execution_count": 6,
   "id": "157289b1",
   "metadata": {},
   "outputs": [
    {
     "name": "stdout",
     "output_type": "stream",
     "text": [
      "KILOMETER TO MILES\n",
      "Enter the kilometer =10\n",
      "Miles = 6.21371\n"
     ]
    }
   ],
   "source": [
    "#KILOMETER TO MILES\n",
    "print(\"KILOMETER TO MILES\")\n",
    "a=float(input(\"Enter the kilometer =\"))\n",
    "b=(a*0.621371)\n",
    "print(\"Miles =\",b)"
   ]
  },
  {
   "cell_type": "code",
   "execution_count": 7,
   "id": "1865c742",
   "metadata": {},
   "outputs": [
    {
     "name": "stdout",
     "output_type": "stream",
     "text": [
      "BIGGEST OF TWO NUMBERS\n",
      "Enter the first number =24\n",
      "Enter the second number =12\n",
      "The greatest number is  24\n"
     ]
    }
   ],
   "source": [
    "#BIGGEST OF TWO NUMBERS\n",
    "print(\"BIGGEST OF TWO NUMBERS\")\n",
    "a=int(input(\"Enter the first number =\"))\n",
    "b=int(input(\"Enter the second number =\"))     \n",
    "if a<b:\n",
    "    print(\"The greatest number is \",b)\n",
    "else:\n",
    "        print(\"The greatest number is \",a)\n"
   ]
  },
  {
   "cell_type": "code",
   "execution_count": null,
   "id": "3d42e127",
   "metadata": {},
   "outputs": [],
   "source": []
  }
 ],
 "metadata": {
  "kernelspec": {
   "display_name": "Python 3 (ipykernel)",
   "language": "python",
   "name": "python3"
  },
  "language_info": {
   "codemirror_mode": {
    "name": "ipython",
    "version": 3
   },
   "file_extension": ".py",
   "mimetype": "text/x-python",
   "name": "python",
   "nbconvert_exporter": "python",
   "pygments_lexer": "ipython3",
   "version": "3.11.4"
  }
 },
 "nbformat": 4,
 "nbformat_minor": 5
}
