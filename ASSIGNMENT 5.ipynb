{
 "cells": [
  {
   "cell_type": "code",
   "execution_count": 4,
   "id": "38c46d09",
   "metadata": {},
   "outputs": [
    {
     "name": "stdout",
     "output_type": "stream",
     "text": [
      "Enter a number: 0\n",
      "The Given Number is Zero\n"
     ]
    }
   ],
   "source": [
    "#Positive,Negative or Zero\n",
    "n=int(input(\"Enter a number: \"))\n",
    "if (n>0):\n",
    "    print(\"The given Number is Positive\")\n",
    "elif (n==0):\n",
    "    print(\"The Given Number is Zero\")\n",
    "else:\n",
    "    print(\"The Given Number is Negative\")"
   ]
  },
  {
   "cell_type": "code",
   "execution_count": 2,
   "id": "59c2113e",
   "metadata": {},
   "outputs": [
    {
     "name": "stdout",
     "output_type": "stream",
     "text": [
      "Enter First number :10\n",
      "Enter Second number :24\n",
      "Enter Third number :2\n",
      "Greatest Number is 24\n"
     ]
    }
   ],
   "source": [
    "#Greatest Of 3 Numbers\n",
    "a=int(input(\"Enter First number :\"))\n",
    "b=int(input(\"Enter Second number :\"))\n",
    "c=int(input(\"Enter Third number :\"))\n",
    "if(a>b and a>c):\n",
    "    print(\"Greatest Number is\",a)\n",
    "elif(b>a and b>c):\n",
    "    print(\"Greatest Number is\",b)\n",
    "else:\n",
    "    print(\"Greatest Number is\",c)\n",
    "    "
   ]
  },
  {
   "cell_type": "code",
   "execution_count": 3,
   "id": "8f99403b",
   "metadata": {},
   "outputs": [
    {
     "name": "stdout",
     "output_type": "stream",
     "text": [
      "Enter First number :10\n",
      "Enter Second number :20\n",
      "Enter Your Choice\n",
      "1.Addition\n",
      "2.Substraction\n",
      "3.Multiplication\n",
      "4.Division\n",
      "Enter Your Choice : 3\n",
      "Result is  200.0\n"
     ]
    }
   ],
   "source": [
    "#Simple Calculator\n",
    "num1=float(input(\"Enter First number :\"))\n",
    "num2=float(input(\"Enter Second number :\"))\n",
    "print(\"Enter Your Choice\")\n",
    "print(\"1.Addition\")\n",
    "print(\"2.Substraction\")\n",
    "print(\"3.Multiplication\")\n",
    "print(\"4.Division\")\n",
    "choice=float(input(\"Enter Your Choice : \"))\n",
    "if(choice==1):\n",
    "    print(\"Result is \",(num1+num2))\n",
    "elif(choice==2):\n",
    "    print(\"Result is \",(num1-num2))\n",
    "elif(choice==3):\n",
    "    print(\"Result is \",(num1*num2))\n",
    "elif(choice==4):\n",
    "    print(\"Result is \",(num1/num2))\n",
    "else:\n",
    "    print(\"Invalid\")\n"
   ]
  },
  {
   "cell_type": "code",
   "execution_count": null,
   "id": "a130f18c",
   "metadata": {},
   "outputs": [],
   "source": []
  },
  {
   "cell_type": "code",
   "execution_count": null,
   "id": "e84a4bbf",
   "metadata": {},
   "outputs": [],
   "source": []
  }
 ],
 "metadata": {
  "kernelspec": {
   "display_name": "Python 3 (ipykernel)",
   "language": "python",
   "name": "python3"
  },
  "language_info": {
   "codemirror_mode": {
    "name": "ipython",
    "version": 3
   },
   "file_extension": ".py",
   "mimetype": "text/x-python",
   "name": "python",
   "nbconvert_exporter": "python",
   "pygments_lexer": "ipython3",
   "version": "3.11.4"
  }
 },
 "nbformat": 4,
 "nbformat_minor": 5
}
