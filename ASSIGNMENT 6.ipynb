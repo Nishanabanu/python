{
 "cells": [
  {
   "cell_type": "code",
   "execution_count": 1,
   "id": "77c48833",
   "metadata": {},
   "outputs": [
    {
     "name": "stdout",
     "output_type": "stream",
     "text": [
      "Enter a Number5\n",
      "Factorial is  120\n"
     ]
    }
   ],
   "source": [
    "#Factorial Of Any Number\n",
    "import math\n",
    "n=int(input(\"Enter a Number\"))\n",
    "f=1\n",
    "i=1\n",
    "while(i<=n):\n",
    "    f=f*i\n",
    "    i=i+1\n",
    "print(\"Factorial is \" ,f)"
   ]
  },
  {
   "cell_type": "code",
   "execution_count": 8,
   "id": "0154ec72",
   "metadata": {},
   "outputs": [
    {
     "name": "stdout",
     "output_type": "stream",
     "text": [
      "Enter a Limit :6\n",
      "Fibonacci Series :\n",
      "\n",
      "0\n",
      "1\n",
      "1\n",
      "2\n",
      "3\n",
      "5\n",
      "8\n"
     ]
    }
   ],
   "source": [
    "#Fibonacci Series\n",
    "n=int(input(\"Enter a Limit :\"))\n",
    "firstnumber=1\n",
    "secondnumber=0\n",
    "print(\"Fibonacci Series :\\n\")\n",
    "print(secondnumber)\n",
    "i=1\n",
    "while(i<=n):\n",
    "    r=firstnumber+secondnumber\n",
    "    print(r)\n",
    "    firstnumber=secondnumber\n",
    "    secondnumber=r\n",
    "    i=i+1"
   ]
  },
  {
   "cell_type": "code",
   "execution_count": null,
   "id": "ad1ff350",
   "metadata": {},
   "outputs": [],
   "source": []
  },
  {
   "cell_type": "code",
   "execution_count": null,
   "id": "db3cb56c",
   "metadata": {},
   "outputs": [],
   "source": [
    "\n"
   ]
  }
 ],
 "metadata": {
  "kernelspec": {
   "display_name": "Python 3 (ipykernel)",
   "language": "python",
   "name": "python3"
  },
  "language_info": {
   "codemirror_mode": {
    "name": "ipython",
    "version": 3
   },
   "file_extension": ".py",
   "mimetype": "text/x-python",
   "name": "python",
   "nbconvert_exporter": "python",
   "pygments_lexer": "ipython3",
   "version": "3.11.4"
  }
 },
 "nbformat": 4,
 "nbformat_minor": 5
}
