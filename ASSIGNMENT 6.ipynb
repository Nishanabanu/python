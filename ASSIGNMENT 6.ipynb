{
 "cells": [
  {
   "cell_type": "code",
   "execution_count": 19,
   "id": "77c48833",
   "metadata": {},
   "outputs": [
    {
     "name": "stdout",
     "output_type": "stream",
     "text": [
      "Enter a Number: 5\n",
      "Factorial is  120\n"
     ]
    }
   ],
   "source": [
    "#Factorial Of Any Number\n",
    "import math\n",
    "n=int(input(\"Enter a Number: \"))\n",
    "f=1\n",
    "i=1\n",
    "while(i<=n):\n",
    "    f=f*i\n",
    "    i=i+1\n",
    "print(\"Factorial is \" ,f)"
   ]
  },
  {
   "cell_type": "code",
   "execution_count": 8,
   "id": "0154ec72",
   "metadata": {},
   "outputs": [
    {
     "name": "stdout",
     "output_type": "stream",
     "text": [
      "Enter a Limit :6\n",
      "Fibonacci Series :\n",
      "\n",
      "0\n",
      "1\n",
      "1\n",
      "2\n",
      "3\n",
      "5\n",
      "8\n"
     ]
    }
   ],
   "source": [
    "#Fibonacci Series\n",
    "n=int(input(\"Enter a Limit :\"))\n",
    "firstnumber=1\n",
    "secondnumber=0\n",
    "print(\"Fibonacci Series :\\n\")\n",
    "print(secondnumber)\n",
    "i=1\n",
    "while(i<=n):\n",
    "    r=firstnumber+secondnumber\n",
    "    print(r)\n",
    "    firstnumber=secondnumber\n",
    "    secondnumber=r\n",
    "    i=i+1"
   ]
  },
  {
   "cell_type": "code",
   "execution_count": 13,
   "id": "ad1ff350",
   "metadata": {},
   "outputs": [
    {
     "name": "stdout",
     "output_type": "stream",
     "text": [
      "Enter The First number: 777\n",
      "Enter The Second Number: 444\n",
      "GCD Of 777 and 444 is 111\n"
     ]
    }
   ],
   "source": [
    "#Greatest Common Divisor\n",
    "n1=int(input(\"Enter The First number: \"))\n",
    "n2=int(input(\"Enter The Second Number: \"))\n",
    "if(n1>n2):\n",
    "    c=n2\n",
    "else:\n",
    "    c=n1\n",
    "while(c>0):\n",
    "    if(n1%c==0)and(n2%c==0):\n",
    "        print(\"GCD Of\",n1,\"and\",n2,\"is\",c)\n",
    "        break;\n",
    "    c=c-1"
   ]
  },
  {
   "cell_type": "code",
   "execution_count": 8,
   "id": "db3cb56c",
   "metadata": {},
   "outputs": [
    {
     "name": "stdout",
     "output_type": "stream",
     "text": [
      "Enter a List:123654\n",
      "Sum Of The Elements In The List ['1', '2', '3', '6', '5', '4'] = 21\n"
     ]
    }
   ],
   "source": [
    "#sum of all terms in a list\n",
    "l=list(input(\"Enter a List:\"))\n",
    "l1=len(l)\n",
    "a=0\n",
    "i=0\n",
    "for i in range(l1):\n",
    "    b=int(l[i])\n",
    "    a=a+b\n",
    "print(\"Sum Of The Elements In The List\",l,\"=\",a)\n",
    "\n"
   ]
  },
  {
   "cell_type": "code",
   "execution_count": 9,
   "id": "010fde90",
   "metadata": {},
   "outputs": [
    {
     "name": "stdout",
     "output_type": "stream",
     "text": [
      "Enter Numbers Seperated By Commas :4,5,7,1\n",
      "tuples ('4', '5', '7', '1')\n",
      "Average Value Of The Numbers In Given Tuple : 4.25\n"
     ]
    }
   ],
   "source": [
    "#Average Of Tuple\n",
    "t=tuple(input(\"Enter Numbers Seperated By Commas :\").split(\",\"))\n",
    "print(\"tuples\",t)\n",
    "l=len(t)\n",
    "c=0\n",
    "for i in range(l):\n",
    "    c=int(t[i])+c\n",
    "    avg=c/l\n",
    "print(\"Average Value Of The Numbers In Given Tuple :\",avg)\n"
   ]
  },
  {
   "cell_type": "code",
   "execution_count": 18,
   "id": "07da6d7a",
   "metadata": {},
   "outputs": [
    {
     "name": "stdout",
     "output_type": "stream",
     "text": [
      "Enter a string :NISHANABANU\n",
      "N is repeated 3 times\n",
      "I is repeated 1 times\n",
      "S is repeated 1 times\n",
      "H is repeated 1 times\n",
      "A is repeated 3 times\n",
      "B is repeated 1 times\n",
      "U is repeated 1 times\n"
     ]
    }
   ],
   "source": [
    "#Freaquency of characters in a string\n",
    "s=input(\"Enter a string :\")\n",
    "f={}\n",
    "for i in s:\n",
    "    if i in f:\n",
    "        f[i]=f[i]+1\n",
    "    else:\n",
    "            f[i]=1\n",
    "for keys,value in f.items():\n",
    "    print(keys,\"is repeated\",value,\"times\")\n",
    "                \n",
    "        "
   ]
  },
  {
   "cell_type": "code",
   "execution_count": null,
   "id": "8b46a3af",
   "metadata": {},
   "outputs": [],
   "source": []
  }
 ],
 "metadata": {
  "kernelspec": {
   "display_name": "Python 3 (ipykernel)",
   "language": "python",
   "name": "python3"
  },
  "language_info": {
   "codemirror_mode": {
    "name": "ipython",
    "version": 3
   },
   "file_extension": ".py",
   "mimetype": "text/x-python",
   "name": "python",
   "nbconvert_exporter": "python",
   "pygments_lexer": "ipython3",
   "version": "3.11.4"
  }
 },
 "nbformat": 4,
 "nbformat_minor": 5
}
