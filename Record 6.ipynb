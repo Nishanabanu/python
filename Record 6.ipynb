{
 "cells": [
  {
   "cell_type": "code",
   "execution_count": 3,
   "id": "8c859b45",
   "metadata": {},
   "outputs": [
    {
     "name": "stdout",
     "output_type": "stream",
     "text": [
      "Enter first year: 2023\n",
      "Enter second year: 2030\n",
      "Leap years between 2023 and 2030\n",
      "2024\n",
      "2028\n"
     ]
    }
   ],
   "source": [
    "#leap year\n",
    "def leap(l,u):\n",
    "    print(\"Leap years between\",l,\"and\",u)\n",
    "    for i in range(l,u+1):\n",
    "        if(i%4==0)and(i%100!=0)or(i%400==0):\n",
    "            print(i)\n",
    "a=int(input(\"Enter first year: \"))\n",
    "b=int(input(\"Enter second year: \"))\n",
    "leap(a,b)\n",
    "            \n",
    "    "
   ]
  },
  {
   "cell_type": "code",
   "execution_count": null,
   "id": "25bcee88",
   "metadata": {},
   "outputs": [
    {
     "name": "stdout",
     "output_type": "stream",
     "text": [
      "\n",
      "1.Square\n",
      "2.Rectangle\n",
      "3.Triangle\n",
      "4.Exit\n",
      "\n",
      "Enter your choice: 1\n",
      "Enter side: 4\n",
      "\n",
      "Area of Square:  16\n",
      "\n",
      "1.Square\n",
      "2.Rectangle\n",
      "3.Triangle\n",
      "4.Exit\n"
     ]
    }
   ],
   "source": [
    "#lambda function\n",
    "sqr=lambda a:a*a\n",
    "rect=lambda l,b:l*b\n",
    "tri=lambda b,h:(b*h)/2\n",
    "while(1):\n",
    "    print(\"\\n1.Square\\n2.Rectangle\\n3.Triangle\\n4.Exit\")\n",
    "    ch=int(input(\"\\nEnter your choice: \"))\n",
    "    if(ch==1):\n",
    "        a=int(input(\"Enter side: \"))\n",
    "        print(\"\\nArea of Square: \",sqr(a))\n",
    "    elif(ch==2):\n",
    "        l=int(input(\"Enter Length: \"))\n",
    "        b=int(input(\"Enter breadth: \"))\n",
    "        print(\"\\nArea of Rectangle: \",rect(l,b))\n",
    "    elif(ch==3):\n",
    "        b=int(input(\"Enter breadth: \"))\n",
    "        h=int(input(\"Enter height: \"))\n",
    "        print(\"\\nArea of Triangle: \",tri(b,h))\n",
    "    else:\n",
    "        print(\"\\nExiting....\")\n",
    "        break\n",
    "                  \n",
    "                  \n",
    "                  "
   ]
  },
  {
   "cell_type": "code",
   "execution_count": 8,
   "id": "ea0e4f2d",
   "metadata": {},
   "outputs": [
    {
     "name": "stdout",
     "output_type": "stream",
     "text": [
      "Enter 4 digit lower range: 1234\n",
      "Enter 4 digit upper range: 9000\n",
      "list:  [4624, 6084, 6400, 8464]\n"
     ]
    }
   ],
   "source": [
    "#perfect square\n",
    "\n",
    "import math\n",
    "n1=int(input(\"Enter 4 digit lower range: \"))\n",
    "n2=int(input(\"Enter 4 digit upper range: \"))\n",
    "l=[]\n",
    "x=0\n",
    "for i in range (n1,n2):\n",
    "    x=i\n",
    "    while(x!=0):\n",
    "        k1=x%10\n",
    "        x=int(x/10)\n",
    "        k2=x%10\n",
    "        x=int(x/10)\n",
    "        k3=x%10\n",
    "        x=int(x/10)\n",
    "        k4 = x % 10\n",
    "        x = int(x / 10)\n",
    "        sq=int(math.sqrt(i))\n",
    "        if (sq*sq==i):\n",
    "            if (k1%2==0 and k2%2==0 and k3%2==0 and k4%2==0):\n",
    "                l.append(i)\n",
    "print(\"list: \",l)\n",
    "\n",
    "\n"
   ]
  },
  {
   "cell_type": "code",
   "execution_count": 14,
   "id": "b6a2e90a",
   "metadata": {},
   "outputs": [
    {
     "name": "stdout",
     "output_type": "stream",
     "text": [
      "Enter a word: sleep\n",
      "New word:  sleeping\n"
     ]
    }
   ],
   "source": [
    "#add 'ing' at the end of a given string\n",
    "\n",
    "word=input(\"Enter a word: \")\n",
    "str1=word[-3:]\n",
    "if str1=='ing':\n",
    "    word=word+'ly'\n",
    "else:\n",
    "    word=word+'ing'\n",
    "print(\"New word: \",word)"
   ]
  },
  {
   "cell_type": "code",
   "execution_count": 19,
   "id": "0a6d5d58",
   "metadata": {},
   "outputs": [
    {
     "name": "stdout",
     "output_type": "stream",
     "text": [
      "Enter a list of words with comma seperated: malayalam,eng,hindi\n",
      "Length of longest word:  9\n"
     ]
    }
   ],
   "source": [
    "#accept list of word and return legth of longest word\n",
    "l1=[]\n",
    "l=list(map(str,input(\"Enter a list of words with comma seperated: \").split(\",\")))\n",
    "for i in l:\n",
    "    l1.append(len(i))\n",
    "print(\"Length of longest word: \",max(l1))"
   ]
  },
  {
   "cell_type": "code",
   "execution_count": null,
   "id": "1c0a1597",
   "metadata": {},
   "outputs": [],
   "source": []
  }
 ],
 "metadata": {
  "kernelspec": {
   "display_name": "Python 3 (ipykernel)",
   "language": "python",
   "name": "python3"
  },
  "language_info": {
   "codemirror_mode": {
    "name": "ipython",
    "version": 3
   },
   "file_extension": ".py",
   "mimetype": "text/x-python",
   "name": "python",
   "nbconvert_exporter": "python",
   "pygments_lexer": "ipython3",
   "version": "3.11.4"
  }
 },
 "nbformat": 4,
 "nbformat_minor": 5
}
