{
 "cells": [
  {
   "cell_type": "code",
   "execution_count": 5,
   "id": "bd87ab17",
   "metadata": {},
   "outputs": [
    {
     "name": "stdout",
     "output_type": "stream",
     "text": [
      "{'Hadiya': 1, 'Lumna': 2, 'Banu': 3}\n",
      "\n",
      " ascending Order is : [('Banu', 3), ('Hadiya', 1), ('Lumna', 2)]\n",
      "\n",
      " Descending Order is : [('Lumna', 2), ('Hadiya', 1), ('Banu', 3)]\n"
     ]
    }
   ],
   "source": [
    "#Sort dictionary\n",
    "dic={'Hadiya':1,'Lumna':2,'Banu':3}\n",
    "l=list(dic.items())\n",
    "print(dic)\n",
    "l.sort()\n",
    "print('\\n ascending Order is :',l)\n",
    "l.sort(reverse=True)\n",
    "print('\\n Descending Order is :',l)"
   ]
  },
  {
   "cell_type": "code",
   "execution_count": null,
   "id": "adb4f6c2",
   "metadata": {},
   "outputs": [],
   "source": []
  },
  {
   "cell_type": "code",
   "execution_count": 4,
   "id": "2a9c0167",
   "metadata": {},
   "outputs": [
    {
     "name": "stdout",
     "output_type": "stream",
     "text": [
      "list 1: {1: 'Hadiya', 2: 'Lumna', 3: 'Banu'}\n",
      "list 2: {4: 'Sinan', 5: 'Abhi', 6: 'Yadu'}\n",
      "\n",
      " First Dictionary: {1: 'Hadiya', 2: 'Lumna', 3: 'Banu'}\n",
      "\n",
      " Second Dictionary: {4: 'Sinan', 5: 'Abhi', 6: 'Yadu'}\n",
      "\n",
      " Merging 2 Dictionaries: {1: 'Hadiya', 2: 'Lumna', 3: 'Banu', 4: 'Sinan', 5: 'Abhi', 6: 'Yadu'}\n"
     ]
    }
   ],
   "source": [
    "#Merge 2 dictionaries\n",
    "d1={1:'Hadiya',2:'Lumna',3:'Banu'}\n",
    "d2={4:'Sinan',5:'Abhi',6:'Yadu'}\n",
    "print(\"list 1:\",d1)\n",
    "print(\"list 2:\",d2)\n",
    "print(\"\\n First Dictionary:\",d1)\n",
    "print(\"\\n Second Dictionary:\",d2)\n",
    "d3=d1\n",
    "d1.update(d2)\n",
    "print(\"\\n Merging 2 Dictionaries:\",d3)"
   ]
  },
  {
   "cell_type": "code",
   "execution_count": null,
   "id": "9533767b",
   "metadata": {},
   "outputs": [],
   "source": []
  }
 ],
 "metadata": {
  "kernelspec": {
   "display_name": "Python 3 (ipykernel)",
   "language": "python",
   "name": "python3"
  },
  "language_info": {
   "codemirror_mode": {
    "name": "ipython",
    "version": 3
   },
   "file_extension": ".py",
   "mimetype": "text/x-python",
   "name": "python",
   "nbconvert_exporter": "python",
   "pygments_lexer": "ipython3",
   "version": "3.11.4"
  }
 },
 "nbformat": 4,
 "nbformat_minor": 5
}
