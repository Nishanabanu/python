{
 "cells": [
  {
   "cell_type": "code",
   "execution_count": 3,
   "id": "7a18cfb3",
   "metadata": {},
   "outputs": [
    {
     "name": "stdout",
     "output_type": "stream",
     "text": [
      "Enter a integer number:5\n",
      "Number= 5\n",
      "Previous number= 4\n",
      "Next number= 6\n"
     ]
    }
   ],
   "source": [
    "a=int(input(\"Enter a integer number:\"))\n",
    "print(\"Number=\",a)\n",
    "prvnum=a-1\n",
    "nxtnum=a+1\n",
    "print(\"Previous number=\",prvnum)\n",
    "print(\"Next number=\",nxtnum)"
   ]
  },
  {
   "cell_type": "code",
   "execution_count": null,
   "id": "e43e38b7",
   "metadata": {},
   "outputs": [],
   "source": []
  }
 ],
 "metadata": {
  "kernelspec": {
   "display_name": "Python 3 (ipykernel)",
   "language": "python",
   "name": "python3"
  },
  "language_info": {
   "codemirror_mode": {
    "name": "ipython",
    "version": 3
   },
   "file_extension": ".py",
   "mimetype": "text/x-python",
   "name": "python",
   "nbconvert_exporter": "python",
   "pygments_lexer": "ipython3",
   "version": "3.11.4"
  }
 },
 "nbformat": 4,
 "nbformat_minor": 5
}
