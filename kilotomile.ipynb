{
 "cells": [
  {
   "cell_type": "code",
   "execution_count": 2,
   "id": "70fdcc05",
   "metadata": {},
   "outputs": [
    {
     "name": "stdout",
     "output_type": "stream",
     "text": [
      "KILOMETER TO MILES\n",
      "Enter the kilometer =68\n",
      "Miles = 42.253228\n"
     ]
    }
   ],
   "source": [
    "print(\"KILOMETER TO MILES\")\n",
    "a=float(input(\"Enter the kilometer =\"))\n",
    "b=(a*0.621371)\n",
    "print(\"Miles =\",b)"
   ]
  },
  {
   "cell_type": "code",
   "execution_count": null,
   "id": "bf81de19",
   "metadata": {},
   "outputs": [],
   "source": []
  }
 ],
 "metadata": {
  "kernelspec": {
   "display_name": "Python 3 (ipykernel)",
   "language": "python",
   "name": "python3"
  },
  "language_info": {
   "codemirror_mode": {
    "name": "ipython",
    "version": 3
   },
   "file_extension": ".py",
   "mimetype": "text/x-python",
   "name": "python",
   "nbconvert_exporter": "python",
   "pygments_lexer": "ipython3",
   "version": "3.11.4"
  }
 },
 "nbformat": 4,
 "nbformat_minor": 5
}
