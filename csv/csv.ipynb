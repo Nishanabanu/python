{
 "cells": [
  {
   "cell_type": "code",
   "execution_count": 3,
   "id": "0090f159",
   "metadata": {},
   "outputs": [
    {
     "name": "stdout",
     "output_type": "stream",
     "text": [
      "Enter new file name with csv extension:h.csv\n",
      "Enter number of dept:1\n",
      "Enter comma seperated deptid,deptname,te,location:1001,mca,12,kozhikode\n"
     ]
    },
    {
     "ename": "KeyError",
     "evalue": "'deptid'",
     "output_type": "error",
     "traceback": [
      "\u001b[0;31m---------------------------------------------------------------------------\u001b[0m",
      "\u001b[0;31mKeyError\u001b[0m                                  Traceback (most recent call last)",
      "Cell \u001b[0;32mIn[3], line 17\u001b[0m\n\u001b[1;32m     15\u001b[0m rdr\u001b[38;5;241m=\u001b[39mcsv\u001b[38;5;241m.\u001b[39mDictReader(f2)\n\u001b[1;32m     16\u001b[0m \u001b[38;5;28;01mfor\u001b[39;00m items \u001b[38;5;129;01min\u001b[39;00m rdr:\n\u001b[0;32m---> 17\u001b[0m     \u001b[38;5;28mprint\u001b[39m(items[\u001b[38;5;124m'\u001b[39m\u001b[38;5;124mdeptid\u001b[39m\u001b[38;5;124m'\u001b[39m],\u001b[38;5;124m\"\u001b[39m\u001b[38;5;124m   \u001b[39m\u001b[38;5;124m\"\u001b[39m, items[\u001b[38;5;124m'\u001b[39m\u001b[38;5;124mdeptname\u001b[39m\u001b[38;5;124m'\u001b[39m])\n",
      "\u001b[0;31mKeyError\u001b[0m: 'deptid'"
     ]
    }
   ],
   "source": [
    "import csv\n",
    "file1=input(\"Enter new file name with csv extension:\")\n",
    "with open (file1,\"a+\",newline='')as f1:\n",
    "    empdata = [\"deptid\",\"deptname\",\"te\",\"location\"]\n",
    "    l=[]\n",
    "    writer=csv.DictWriter(f1,fieldnames=empdata)\n",
    "    writer.writeheader()\n",
    "    n=int(input(\"Enter number of dept:\"))\n",
    "    for i in range(n):\n",
    "            l=list(input(\"Enter comma seperated deptid,deptname,te,location:\").split(\",\"))\n",
    "            writer.writerow({'deptid':l[0],'deptname':l[1],'te':l[2],'location':l[3]})\n",
    "            l.clear()\n",
    "\n",
    "with open(file1,'r') as f2:\n",
    "    rdr=csv.DictReader(f2)\n",
    "    for items in rdr:\n",
    "        print(items['deptid'],\"   \", items['deptname'])"
   ]
  },
  {
   "cell_type": "code",
   "execution_count": null,
   "id": "a7d56bfe",
   "metadata": {},
   "outputs": [],
   "source": []
  }
 ],
 "metadata": {
  "kernelspec": {
   "display_name": "Python 3 (ipykernel)",
   "language": "python",
   "name": "python3"
  },
  "language_info": {
   "codemirror_mode": {
    "name": "ipython",
    "version": 3
   },
   "file_extension": ".py",
   "mimetype": "text/x-python",
   "name": "python",
   "nbconvert_exporter": "python",
   "pygments_lexer": "ipython3",
   "version": "3.11.4"
  }
 },
 "nbformat": 4,
 "nbformat_minor": 5
}
