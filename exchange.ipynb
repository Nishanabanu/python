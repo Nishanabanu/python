{
 "cells": [
  {
   "cell_type": "code",
   "execution_count": 7,
   "id": "70fdcc05",
   "metadata": {},
   "outputs": [
    {
     "name": "stdout",
     "output_type": "stream",
     "text": [
      "Enter your string :APPLE\n",
      "EPPLA\n"
     ]
    }
   ],
   "source": [
    "s=str(input(\"Enter your string :\"))\n",
    "a=s[0]\n",
    "b=s[-1]\n",
    "print(b+s[1:-1]+a)"
   ]
  },
  {
   "cell_type": "code",
   "execution_count": null,
   "id": "4f6c591d",
   "metadata": {},
   "outputs": [],
   "source": []
  },
  {
   "cell_type": "code",
   "execution_count": null,
   "id": "d89fb6d2",
   "metadata": {},
   "outputs": [],
   "source": []
  },
  {
   "cell_type": "code",
   "execution_count": null,
   "id": "241fc377",
   "metadata": {},
   "outputs": [],
   "source": []
  }
 ],
 "metadata": {
  "kernelspec": {
   "display_name": "Python 3 (ipykernel)",
   "language": "python",
   "name": "python3"
  },
  "language_info": {
   "codemirror_mode": {
    "name": "ipython",
    "version": 3
   },
   "file_extension": ".py",
   "mimetype": "text/x-python",
   "name": "python",
   "nbconvert_exporter": "python",
   "pygments_lexer": "ipython3",
   "version": "3.11.4"
  }
 },
 "nbformat": 4,
 "nbformat_minor": 5
}
