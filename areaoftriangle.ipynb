{
 "cells": [
  {
   "cell_type": "code",
   "execution_count": 1,
   "id": "7596da60",
   "metadata": {},
   "outputs": [
    {
     "name": "stdout",
     "output_type": "stream",
     "text": [
      "Height of the rightangled triangle:8\n",
      "breadth of the rightangled triangle:4\n",
      "Area of rightangled traingle= 16.0\n"
     ]
    }
   ],
   "source": [
    "a=int(input(\"Height of the rightangled triangle:\"))\n",
    "b=int(input(\"breadth of the rightangled triangle:\"))\n",
    "area=a*b/2\n",
    "print(\"Area of rightangled traingle=\",area)"
   ]
  },
  {
   "cell_type": "code",
   "execution_count": null,
   "id": "a0410c80",
   "metadata": {},
   "outputs": [],
   "source": []
  }
 ],
 "metadata": {
  "kernelspec": {
   "display_name": "Python 3 (ipykernel)",
   "language": "python",
   "name": "python3"
  },
  "language_info": {
   "codemirror_mode": {
    "name": "ipython",
    "version": 3
   },
   "file_extension": ".py",
   "mimetype": "text/x-python",
   "name": "python",
   "nbconvert_exporter": "python",
   "pygments_lexer": "ipython3",
   "version": "3.11.4"
  }
 },
 "nbformat": 4,
 "nbformat_minor": 5
}
