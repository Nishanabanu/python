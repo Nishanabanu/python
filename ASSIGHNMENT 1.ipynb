{
 "cells": [
  {
   "cell_type": "code",
   "execution_count": 1,
   "id": "f2f001cb",
   "metadata": {},
   "outputs": [
    {
     "name": "stdout",
     "output_type": "stream",
     "text": [
      "Enter side of square:5\n",
      "area of square= 25\n"
     ]
    }
   ],
   "source": [
    "a=int(input(\"Enter side of square:\"))\n",
    "area=a*a\n",
    "print(\"area of square=\",area)"
   ]
  },
  {
   "cell_type": "code",
   "execution_count": 2,
   "id": "366a682a",
   "metadata": {},
   "outputs": [
    {
     "name": "stdout",
     "output_type": "stream",
     "text": [
      "Height of the rightangled triangle:8\n",
      "breadth of the rightangled triangle:4\n",
      "Area of rightangled traingle= 16.0\n"
     ]
    }
   ],
   "source": [
    "a=int(input(\"Height of the rightangled triangle:\"))\n",
    "b=int(input(\"breadth of the rightangled triangle:\"))\n",
    "area=a*b/2\n",
    "print(\"Area of rightangled traingle=\",area)"
   ]
  },
  {
   "cell_type": "code",
   "execution_count": 3,
   "id": "78a723cc",
   "metadata": {},
   "outputs": [
    {
     "name": "stdout",
     "output_type": "stream",
     "text": [
      "Enter a integer number:10\n",
      "Number= 10\n",
      "Previous number= 9\n",
      "Next number= 11\n"
     ]
    }
   ],
   "source": [
    "a=int(input(\"Enter a integer number:\"))\n",
    "print(\"Number=\",a)\n",
    "prvnum=a-1\n",
    "nxtnum=a+1\n",
    "print(\"Previous number=\",prvnum)\n",
    "print(\"Next number=\",nxtnum)"
   ]
  },
  {
   "cell_type": "code",
   "execution_count": 4,
   "id": "fa98da76",
   "metadata": {},
   "outputs": [
    {
     "name": "stdout",
     "output_type": "stream",
     "text": [
      "Enter the principle amount:1000\n",
      "Number of years:5\n",
      "Rate of interest:4\n",
      "Simple interest= 200.0\n"
     ]
    }
   ],
   "source": [
    "p=int(input(\"Enter the principle amount:\"))\n",
    "n=int(input(\"Number of years:\"))\n",
    "r=int(input(\"Rate of interest:\"))\n",
    "si=p*n*r/100\n",
    "print(\"Simple interest=\",si)"
   ]
  },
  {
   "cell_type": "code",
   "execution_count": 5,
   "id": "39c432b2",
   "metadata": {},
   "outputs": [
    {
     "name": "stdout",
     "output_type": "stream",
     "text": [
      "enter the value of n:5\n",
      "5 + 55 + 555 = 615\n"
     ]
    }
   ],
   "source": [
    "n=int(input(\"enter the value of n:\"))\n",
    "i=n*10+n\n",
    "j=n*100+i\n",
    "sum=n+i+j\n",
    "print(n,\"+\",i,\"+\",j,\"=\",sum)"
   ]
  },
  {
   "cell_type": "code",
   "execution_count": null,
   "id": "43d9bdf5",
   "metadata": {},
   "outputs": [],
   "source": []
  }
 ],
 "metadata": {
  "kernelspec": {
   "display_name": "Python 3 (ipykernel)",
   "language": "python",
   "name": "python3"
  },
  "language_info": {
   "codemirror_mode": {
    "name": "ipython",
    "version": 3
   },
   "file_extension": ".py",
   "mimetype": "text/x-python",
   "name": "python",
   "nbconvert_exporter": "python",
   "pygments_lexer": "ipython3",
   "version": "3.11.4"
  }
 },
 "nbformat": 4,
 "nbformat_minor": 5
}
