{
 "cells": [
  {
   "cell_type": "code",
   "execution_count": 1,
   "id": "e05516fd",
   "metadata": {},
   "outputs": [
    {
     "name": "stdout",
     "output_type": "stream",
     "text": [
      "Enter side of square:5\n",
      "area of square= 25\n"
     ]
    }
   ],
   "source": [
    "#Area of circle\n",
    "a=int(input(\"Enter side of square:\"))\n",
    "area=a*a\n",
    "print(\"area of square=\",area)"
   ]
  },
  {
   "cell_type": "code",
   "execution_count": 2,
   "id": "37b809a0",
   "metadata": {},
   "outputs": [
    {
     "name": "stdout",
     "output_type": "stream",
     "text": [
      "Height of the rightangled triangle:8\n",
      "breadth of the rightangled triangle:4\n",
      "Area of rightangled traingle= 16.0\n"
     ]
    }
   ],
   "source": [
    "#Area of rightangled triangle\n",
    "a=int(input(\"Height of the rightangled triangle:\"))\n",
    "b=int(input(\"breadth of the rightangled triangle:\"))\n",
    "area=a*b/2\n",
    "print(\"Area of rightangled traingle=\",area)"
   ]
  },
  {
   "cell_type": "code",
   "execution_count": 3,
   "id": "4bda8b40",
   "metadata": {},
   "outputs": [
    {
     "name": "stdout",
     "output_type": "stream",
     "text": [
      "Enter a integer number:10\n",
      "Number= 10\n",
      "Previous number= 9\n",
      "Next number= 11\n"
     ]
    }
   ],
   "source": [
    "#Previous and next number\n",
    "a=int(input(\"Enter a integer number:\"))\n",
    "print(\"Number=\",a)\n",
    "prvnum=a-1\n",
    "nxtnum=a+1\n",
    "print(\"Previous number=\",prvnum)\n",
    "print(\"Next number=\",nxtnum)"
   ]
  },
  {
   "cell_type": "code",
   "execution_count": 4,
   "id": "934a488a",
   "metadata": {},
   "outputs": [
    {
     "name": "stdout",
     "output_type": "stream",
     "text": [
      "Enter the principle amount:1000\n",
      "Number of years:5\n",
      "Rate of interest:4\n",
      "Simple interest= 200.0\n"
     ]
    }
   ],
   "source": [
    "#Simple interest\n",
    "p=int(input(\"Enter the principle amount:\"))\n",
    "n=int(input(\"Number of years:\"))\n",
    "r=int(input(\"Rate of interest:\"))\n",
    "si=p*n*r/100\n",
    "print(\"Simple interest=\",si)"
   ]
  },
  {
   "cell_type": "code",
   "execution_count": 5,
   "id": "9807992a",
   "metadata": {},
   "outputs": [
    {
     "name": "stdout",
     "output_type": "stream",
     "text": [
      "enter the value of n:5\n",
      "5 + 55 + 555 = 615\n"
     ]
    }
   ],
   "source": [
    "#Compute number\n",
    "n=int(input(\"enter the value of n:\"))\n",
    "i=n*10+n\n",
    "j=n*100+i\n",
    "sum=n+i+j\n",
    "print(n,\"+\",i,\"+\",j,\"=\",sum)"
   ]
  },
  {
   "cell_type": "code",
   "execution_count": null,
   "id": "b323606f",
   "metadata": {},
   "outputs": [],
   "source": []
  },
  {
   "cell_type": "code",
   "execution_count": null,
   "id": "64828dfe",
   "metadata": {},
   "outputs": [],
   "source": []
  }
 ],
 "metadata": {
  "kernelspec": {
   "display_name": "Python 3 (ipykernel)",
   "language": "python",
   "name": "python3"
  },
  "language_info": {
   "codemirror_mode": {
    "name": "ipython",
    "version": 3
   },
   "file_extension": ".py",
   "mimetype": "text/x-python",
   "name": "python",
   "nbconvert_exporter": "python",
   "pygments_lexer": "ipython3",
   "version": "3.11.4"
  }
 },
 "nbformat": 4,
 "nbformat_minor": 5
}

