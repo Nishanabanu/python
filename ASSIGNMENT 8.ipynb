{
 "cells": [
  {
   "cell_type": "code",
   "execution_count": 1,
   "id": "016881a4",
   "metadata": {},
   "outputs": [
    {
     "name": "stdout",
     "output_type": "stream",
     "text": [
      "Enter number separated by commas:1,2,3,4,5\n",
      "Tuple= ('1', '2', '3', '4', '5')\n",
      "Reversed= ('5', '4', '3', '2', '1')\n"
     ]
    }
   ],
   "source": [
    "#Reverse of a tuple\n",
    "t=tuple(input(\"Enter number separated by commas:\").split(\",\"))\n",
    "print(\"Tuple=\",t)\n",
    "reverse=reversed(t)\n",
    "result=tuple(reverse)\n",
    "print(\"Reversed=\",result)"
   ]
  },
  {
   "cell_type": "code",
   "execution_count": 2,
   "id": "92c553f3",
   "metadata": {},
   "outputs": [
    {
     "name": "stdout",
     "output_type": "stream",
     "text": [
      "Enter Numbers Seperated By Commas :5,4,3\n",
      "tuples ('5', '4', '3')\n",
      "Average Value Of The Numbers In Given Tuple : 4.0\n"
     ]
    }
   ],
   "source": [
    "#Average Of Tuple\n",
    "t=tuple(input(\"Enter Numbers Seperated By Commas :\").split(\",\"))\n",
    "print(\"tuples\",t)\n",
    "l=len(t)\n",
    "c=0\n",
    "for i in range(l):\n",
    "    c=int(t[i])+c\n",
    "    avg=c/l\n",
    "print(\"Average Value Of The Numbers In Given Tuple :\",avg)\n"
   ]
  },
  {
   "cell_type": "code",
   "execution_count": 1,
   "id": "f84c62b8",
   "metadata": {},
   "outputs": [
    {
     "name": "stdout",
     "output_type": "stream",
     "text": [
      "Enter Number Separated By Commas: 5,2,4,1\n",
      "Tuples:  ('5', '2', '4', '1')\n",
      "Enter the item to be Removed:4\n",
      "('5', '2', '1')\n"
     ]
    }
   ],
   "source": [
    "#Remove an item from tuple \n",
    "t=tuple(input(\"Enter Number Separated By Commas: \").split(\",\"))\n",
    "tn=list(t)\n",
    "print(\"Tuples: \",t)\n",
    "d=input(\"Enter the item to be Removed:\")\n",
    "for x in t:\n",
    "    if d in x:\n",
    "        tn.remove(x)\n",
    "        result=tuple(tn)\n",
    "print(result)"
   ]
  },
  {
   "cell_type": "code",
   "execution_count": 4,
   "id": "f756f9b9",
   "metadata": {},
   "outputs": [
    {
     "name": "stdout",
     "output_type": "stream",
     "text": [
      "Enter Number Separated By Commas: 1,2,3,4,5,6,7\n",
      "Tuples:  ('1', '2', '3', '4', '5', '6', '7')\n",
      "3rd Element in tuple:  3\n",
      "3rd last Element in tuple:  5\n"
     ]
    }
   ],
   "source": [
    "#third & 3rd last element of tuple\n",
    "t=tuple(input(\"Enter Number Separated By Commas: \").split(\",\"))\n",
    "print(\"Tuples: \",t)\n",
    "print(\"3rd Element in tuple: \",t[2])\n",
    "print(\"3rd last Element in tuple: \",t[-3])"
   ]
  },
  {
   "cell_type": "code",
   "execution_count": null,
   "id": "b13632fe",
   "metadata": {},
   "outputs": [],
   "source": []
  }
 ],
 "metadata": {
  "kernelspec": {
   "display_name": "Python 3 (ipykernel)",
   "language": "python",
   "name": "python3"
  },
  "language_info": {
   "codemirror_mode": {
    "name": "ipython",
    "version": 3
   },
   "file_extension": ".py",
   "mimetype": "text/x-python",
   "name": "python",
   "nbconvert_exporter": "python",
   "pygments_lexer": "ipython3",
   "version": "3.11.4"
  }
 },
 "nbformat": 4,
 "nbformat_minor": 5
}
