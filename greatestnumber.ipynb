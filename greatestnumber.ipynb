{
 "cells": [
  {
   "cell_type": "code",
   "execution_count": 3,
   "id": "70fdcc05",
   "metadata": {},
   "outputs": [
    {
     "name": "stdout",
     "output_type": "stream",
     "text": [
      "BIGGEST OF TWO NUMBERS\n",
      "Enter the first number =10\n",
      "Enter the second number =20\n",
      "The greatest number is  20\n"
     ]
    }
   ],
   "source": [
    "print(\"BIGGEST OF TWO NUMBERS\")\n",
    "a=int(input(\"Enter the first number =\"))\n",
    "b=int(input(\"Enter the second number =\"))     \n",
    "if a<b:\n",
    "    print(\"The greatest number is \",b)\n",
    "else:\n",
    "        print(\"The greatest number is \",a)\n"
   ]
  },
  {
   "cell_type": "code",
   "execution_count": null,
   "id": "5f6cb029",
   "metadata": {},
   "outputs": [],
   "source": []
  }
 ],
 "metadata": {
  "kernelspec": {
   "display_name": "Python 3 (ipykernel)",
   "language": "python",
   "name": "python3"
  },
  "language_info": {
   "codemirror_mode": {
    "name": "ipython",
    "version": 3
   },
   "file_extension": ".py",
   "mimetype": "text/x-python",
   "name": "python",
   "nbconvert_exporter": "python",
   "pygments_lexer": "ipython3",
   "version": "3.11.4"
  }
 },
 "nbformat": 4,
 "nbformat_minor": 5
}
